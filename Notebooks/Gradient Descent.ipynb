{
 "cells": [
  {
   "cell_type": "markdown",
   "metadata": {},
   "source": [
    "# Z czym się je Gradient Descent?\n",
    "Gradient Descent to jeden z najprostszych algorytmów znajdywania minimum w funkcji. Jest o tyle fajny, że wybierając punkt w funkcji będzie brał tym większe kroki im dalej jest od minimum, a tym samym tym mniejsze im bliżej tego minimum jest. Daje to fajne efekty obliczeniowe.\n",
    "\n",
    "## Źródła\n",
    "+ [https://www.youtube.com/watch?v=xRJCOz3AfYY](https://www.youtube.com/watch?v=xRJCOz3AfYY)\n",
    "+ [https://www.youtube.com/watch?v=sDv4f4s2SB8](https://www.youtube.com/watch?v=sDv4f4s2SB8)"
   ]
  },
  {
   "cell_type": "code",
   "execution_count": 1,
   "metadata": {},
   "outputs": [],
   "source": [
    "import matplotlib.pyplot as plt\n",
    "import numpy as np\n",
    "\n",
    "''' opisane po co to w ostatnim kroku '''\n",
    "maxwykresu = 0"
   ]
  },
  {
   "cell_type": "markdown",
   "metadata": {},
   "source": [
    "## Dataset \n",
    "Na dobry początek wybieramy punkty dla których będziemy wyznaczać średnią linię"
   ]
  },
  {
   "cell_type": "code",
   "execution_count": 2,
   "metadata": {},
   "outputs": [],
   "source": [
    "datapoints = np.array([[1, 2], [3, 1], [4, 4]])"
   ]
  },
  {
   "cell_type": "code",
   "execution_count": 3,
   "metadata": {},
   "outputs": [
    {
     "data": {
      "text/plain": [
       "<matplotlib.collections.PathCollection at 0x21abd02a080>"
      ]
     },
     "execution_count": 3,
     "metadata": {},
     "output_type": "execute_result"
    },
    {
     "data": {
      "image/png": "[encoded data removed]",
      "text/plain": [
       "<Figure size 432x288 with 1 Axes>"
      ]
     },
     "metadata": {
      "needs_background": "light"
     },
     "output_type": "display_data"
    }
   ],
   "source": [
    "x, y = datapoints.T\n",
    "plt.scatter(x, y)"
   ]
  },
  {
   "cell_type": "markdown",
   "metadata": {},
   "source": [
    "## Podstawowe funkcje\n",
    "Następnie tworzymy funkcje do:\n",
    "+ przeliczenia wysokości dla punktu bazując na równaniu zwykłej prostej: y=ax+b\n",
    "+ przeliczenia sum of squared residuals (jeszce nie wiem jak to się po polsku nazywa 😝)"
   ]
  },
  {
   "cell_type": "code",
   "execution_count": 4,
   "metadata": {},
   "outputs": [],
   "source": [
    "def przelicz_wysokosc_prostej_od_punktu(Afunkcji, Bfunkcji, Xpunktu):\n",
    "    return Afunkcji*Xpunktu+Bfunkcji"
   ]
  },
  {
   "cell_type": "markdown",
   "metadata": {},
   "source": [
    "Funkcja ta ma za zadanie zwrócić sumę kwadratów różnicy wysokości między rzeczywistym punktem ze zbioru danych, a otrzymaną wysokością na podstawie podanego równania (również y=ax+b)"
   ]
  },
  {
   "cell_type": "code",
   "execution_count": 5,
   "metadata": {},
   "outputs": [],
   "source": [
    "def sum_of_squared_residuals(punkty, Afunkcji, Bfunkcji):\n",
    "    suma = 0\n",
    "    for punkt in punkty:\n",
    "        suma = suma + (punkt[1] - przelicz_wysokosc_prostej_od_punktu(Afunkcji, Bfunkcji, punkt[0]))**2\n",
    "        \n",
    "    return suma"
   ]
  },
  {
   "cell_type": "markdown",
   "metadata": {},
   "source": [
    "## Wykres punktów z datasetu oraz przeliczonych z prostej\n",
    "Zbudujmy wykres.\n",
    "\n",
    "Na zielono mamy zaznaczone nasze rzeczywiste punkty, a na niebiesko punkty wyliczone z zaproponowanej przez nas funkcji"
   ]
  },
  {
   "cell_type": "markdown",
   "metadata": {},
   "source": [
    "Funkcja postaci y=ax+b\n",
    "+ intercept = b\n",
    "+ slope = a"
   ]
  },
  {
   "cell_type": "code",
   "execution_count": 6,
   "metadata": {},
   "outputs": [
    {
     "data": {
      "text/plain": [
       "[<matplotlib.lines.Line2D at 0x21abd0ced30>,\n",
       " <matplotlib.lines.Line2D at 0x21abd0ceef0>]"
      ]
     },
     "execution_count": 6,
     "metadata": {},
     "output_type": "execute_result"
    },
    {
     "data": {
      "image/png": "[encoded data removed]",
      "text/plain": [
       "<Figure size 432x288 with 1 Axes>"
      ]
     },
     "metadata": {
      "needs_background": "light"
     },
     "output_type": "display_data"
    }
   ],
   "source": [
    "slope = 0.64\n",
    "intercept = 0\n",
    "\n",
    "xx, yy = np.array([[item[0], przelicz_wysokosc_prostej_od_punktu(slope, intercept, item[0])] for item in datapoints]).T\n",
    "plt.plot(x, y, 'gs', xx, yy, 'bs')"
   ]
  },
  {
   "cell_type": "markdown",
   "metadata": {},
   "source": [
    "Możemy teraz zobrazować wykres funkcji \"sum of the squared residuals\". Co krok będziemy zwiększać wartość intercept o 0.01, by zauważyć, że w funkcji występuje minimum.\n",
    "\n",
    "Tip. wiemy, że to funkcja kwadratowa, więc będzie to jedyne minimum tutaj obserwowane. Ramiona w górze 🤪"
   ]
  },
  {
   "cell_type": "code",
   "execution_count": 7,
   "metadata": {},
   "outputs": [
    {
     "data": {
      "text/plain": [
       "[<matplotlib.lines.Line2D at 0x21abd146668>]"
      ]
     },
     "execution_count": 7,
     "metadata": {},
     "output_type": "execute_result"
    },
    {
     "data": {
      "image/png": "[encoded data removed]",
      "text/plain": [
       "<Figure size 432x288 with 1 Axes>"
      ]
     },
     "metadata": {
      "needs_background": "light"
     },
     "output_type": "display_data"
    }
   ],
   "source": [
    "intercept = 0\n",
    "punkty = []\n",
    "\n",
    "for x in range(150):\n",
    "    intercept = intercept + 0.01\n",
    "    punkty.append([intercept, sum_of_squared_residuals(datapoints, slope, intercept)])\n",
    "  \n",
    "    \n",
    "xxx, yyy = np.array(punkty).T\n",
    "plt.plot(xxx, yyy)"
   ]
  },
  {
   "cell_type": "markdown",
   "metadata": {},
   "source": [
    "## Styczna do prostej\n",
    "Musimy teraz wyznaczyć pochodną dla tej funkcji, co by mieć funkcję, do wyznaczania stycznej na podstawie parametrów: x oraz intercept. Najważniejszym parametrem w tych obliczeniach jest współczynnik kierunkowy stycznej do funkcji. Minimum osiągniemy w momencie, gdy współczynnik będzie wskazywał, że prosta jest prawie pozioma (w obliczeniach stepsize < 0.0001).\n",
    "\n",
    "### Jak to policzyć\n",
    "##### Warto skorzystać z \"chain rule\". \n",
    "\n",
    "Bierzemy na początek funkcję, która służyła nam do obliczenia jednego z elementów \"sum of squared residuals\".\n",
    "\n",
    "*f = (h - (0.64x + intercept))^2*\n",
    "\n",
    "Więc nasza pochodna wynosi:\n",
    "\n",
    "*f' = 2 * (h - (0.64x + intercept))^1 * f'(2h)-f(0.64x)-f(intercept)*\n",
    "\n",
    "Z tego dostaniemy coś skomplikowanego, ale co by tak nie robić zakładamy, że nasz x oraz h są określonymi liczbami. Otrzymujemy w ten sposób pochodną:\n",
    "\n",
    "*f'(2h)-f(0.64x)-f(intercept)*\n",
    "\n",
    "co po założeniu znania x oraz h daje nam:\n",
    "\n",
    "*f' = 2 * (h - (0.64x + intercept))^1 * (-1)*\n",
    "\n",
    "więc finalnie\n",
    "\n",
    "*-2 * (h-(intercept+0.64x))*"
   ]
  },
  {
   "cell_type": "code",
   "execution_count": 8,
   "metadata": {},
   "outputs": [],
   "source": [
    "def derivative_of_sum_of_squared_residuals(h, x, intercept):\n",
    "    return -2*(h-(intercept+0.64*x))"
   ]
  },
  {
   "cell_type": "markdown",
   "metadata": {},
   "source": [
    "## Learning rate\n",
    "Tutaj tworzymy główną metodę Gradient Descent, czyli zmniejszanie stepu w miarę bycia w pobliżu minimum.\n",
    "\n",
    "Ważny wzór: *stepsize = suma w jednym kroku * learningrate*"
   ]
  },
  {
   "cell_type": "code",
   "execution_count": 9,
   "metadata": {},
   "outputs": [
    {
     "name": "stdout",
     "output_type": "stream",
     "text": [
      "stepsize -9.981082297386302e-05\n",
      "intercept 0.61013134032733\n"
     ]
    }
   ],
   "source": [
    "''' tworzymy tablicę punktów do wykresiku '''\n",
    "pkts = []\n",
    "''' nadpisujemy intercept z tych poprzednich kroków '''\n",
    "intercept = 0\n",
    "\n",
    "''' ustawiamy learning rate '''\n",
    "learningrate = 1e-3\n",
    "\n",
    "''' inicjujemy stepsize do rozpoczęcia pętli '''\n",
    "stepsize = 1\n",
    "\n",
    "''' inicjujemy counter na 0 '''\n",
    "''' counter potrzebny do wykresu '''\n",
    "cnt=0\n",
    "\n",
    "''' bierzemy wartość absolutną stepsize, ponieważ będzie ona przyjmować wartości ujemne i dodatnie. \n",
    "Step może wejśc na zbocze rosnące, przez co będzie musiał przyjąć wartość odwrotną (dodatnią) do standardowej\n",
    "w czasie przeszukiwania.'''\n",
    "while abs(stepsize) >= 0.0001:\n",
    "    suma = 0\n",
    "    \n",
    "    for punkt in datapoints:\n",
    "        suma = suma + derivative_of_sum_of_squared_residuals(punkt[1], punkt[0], intercept)\n",
    "        \n",
    "        ''' maxwykresu potrzebujemy, żeby wiedzieć do jakiego punktu printować punkty funkcji '''\n",
    "        if punkt[0] > maxwykresu:\n",
    "            maxwykresu = punkt[0]\n",
    "    \n",
    "    ''' dodajemy do wykresu '''\n",
    "    pkts.append([cnt, intercept])\n",
    "    \n",
    "    ''' stepsize '''\n",
    "    stepsize = suma * learningrate\n",
    "    \n",
    "    ''' od interceptu odejmujemy stepsize '''\n",
    "    intercept = intercept - stepsize\n",
    "    \n",
    "    cnt=cnt+1\n",
    "    \n",
    "print('stepsize', stepsize)\n",
    "print('intercept', intercept)"
   ]
  },
  {
   "cell_type": "markdown",
   "metadata": {},
   "source": [
    "## Opis wykresu\n",
    "Funkcja powinna na początku szybko rosnąć, a pod koniec wykresu coraz wolniej. Wynika to z zachowania właściwości, że coraz mniejsze kroki robimy na miarę bycia coraz bliżej minimum."
   ]
  },
  {
   "cell_type": "code",
   "execution_count": 10,
   "metadata": {},
   "outputs": [
    {
     "data": {
      "text/plain": [
       "[<matplotlib.lines.Line2D at 0x21abd1bb4a8>]"
      ]
     },
     "execution_count": 10,
     "metadata": {},
     "output_type": "execute_result"
    },
    {
     "data": {
      "image/png": "[encoded data removed]",
      "text/plain": [
       "<Figure size 432x288 with 1 Axes>"
      ]
     },
     "metadata": {
      "needs_background": "light"
     },
     "output_type": "display_data"
    }
   ],
   "source": [
    "xxxx, yyyy = np.array(pkts).T\n",
    "\n",
    "plt.plot(xxxx, yyyy)"
   ]
  },
  {
   "cell_type": "code",
   "execution_count": 11,
   "metadata": {},
   "outputs": [
    {
     "data": {
      "text/plain": [
       "[<matplotlib.lines.Line2D at 0x21abd22e2b0>,\n",
       " <matplotlib.lines.Line2D at 0x21abd22e3c8>]"
      ]
     },
     "execution_count": 11,
     "metadata": {},
     "output_type": "execute_result"
    },
    {
     "data": {
      "image/png": "[encoded data removed]",
      "text/plain": [
       "<Figure size 432x288 with 1 Axes>"
      ]
     },
     "metadata": {
      "needs_background": "light"
     },
     "output_type": "display_data"
    }
   ],
   "source": [
    "x, y = datapoints.T\n",
    "\n",
    "prosta = []\n",
    "\n",
    "for xcnt in range(maxwykresu*100):\n",
    "    prosta.append([xcnt/100, przelicz_wysokosc_prostej_od_punktu(0.64, intercept, xcnt/100)])   \n",
    "    \n",
    "xxxxx, yyyyy = np.array(prosta).T\n",
    "\n",
    "plt.plot(x, y, 'gs', xxxxx, yyyyy)"
   ]
  }
 ],
 "metadata": {
  "kernelspec": {
   "display_name": "Python 3",
   "language": "python",
   "name": "python3"
  },
  "language_info": {
   "codemirror_mode": {
    "name": "ipython",
    "version": 3
   },
   "file_extension": ".py",
   "mimetype": "text/x-python",
   "name": "python",
   "nbconvert_exporter": "python",
   "pygments_lexer": "ipython3",
   "version": "3.7.3"
  }
 },
 "nbformat": 4,
 "nbformat_minor": 2
}
